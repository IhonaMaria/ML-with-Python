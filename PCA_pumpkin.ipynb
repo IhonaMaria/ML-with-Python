{
 "cells": [
  {
   "cell_type": "markdown",
   "id": "782381c9-1942-44e0-823a-bff878e1ca28",
   "metadata": {},
   "source": [
    "# PCA ANALYSIS APPLIED TO THE PUMPKIN DATASET"
   ]
  },
  {
   "cell_type": "markdown",
   "id": "911dac6e-7e0f-4ea3-99e9-b9df24d5d798",
   "metadata": {},
   "source": [
    "In this case we are going to do a dimensional reduction of the pumpkin seed dataset (https://www.kaggle.com/datasets/muratkokludataset/pumpkin-seeds-dataset) using the PCA algorithm (Principal Component Analysis).\n",
    "Feature extraction is a very useful technique for representing a multidimensional data set and gaining insights into the decision bounds that an algorithm constructs. For this we can use the PCA algorithm and reduce the number of featureS."
   ]
  },
  {
   "cell_type": "code",
   "execution_count": 1,
   "id": "91ab8201-b0ab-4691-b03e-1c6165072ffa",
   "metadata": {},
   "outputs": [],
   "source": [
    "import pandas as pd\n",
    "import os\n",
    "import numpy as np\n",
    "from sklearn.model_selection import train_test_split\n",
    "from sklearn.preprocessing import RobustScaler\n",
    "from sklearn.metrics import f1_score"
   ]
  },
  {
   "cell_type": "code",
   "execution_count": 2,
   "id": "d05b2f4a-5e3c-4834-8290-355d08a6c55c",
   "metadata": {},
   "outputs": [],
   "source": [
    "def train_val_test_split(df, rstate=42, shuffle=True, stratify=None):\n",
    "    strat = df[stratify] if stratify else None\n",
    "    train_set, test_set = train_test_split(\n",
    "        df, test_size=0.4, random_state=rstate, shuffle=shuffle, stratify=strat)\n",
    "    strat = test_set[stratify] if stratify else None\n",
    "    val_set, test_set = train_test_split(\n",
    "        test_set, test_size=0.5, random_state=rstate, shuffle=shuffle, stratify=strat)\n",
    "    return (train_set, val_set, test_set)"
   ]
  },
  {
   "cell_type": "code",
   "execution_count": 3,
   "id": "c965e489-a8d2-455a-b493-aeaf16325b74",
   "metadata": {},
   "outputs": [],
   "source": [
    "def remove_labels(df, label_name):\n",
    "    X = df.drop(label_name, axis=1)\n",
    "    y = df[label_name].copy()\n",
    "    return (X, y)"
   ]
  },
  {
   "cell_type": "code",
   "execution_count": 4,
   "id": "1d0ae291-0c86-457c-9722-6d9ee7ba3402",
   "metadata": {},
   "outputs": [
    {
     "data": {
      "text/html": [
       "<div>\n",
       "<style scoped>\n",
       "    .dataframe tbody tr th:only-of-type {\n",
       "        vertical-align: middle;\n",
       "    }\n",
       "\n",
       "    .dataframe tbody tr th {\n",
       "        vertical-align: top;\n",
       "    }\n",
       "\n",
       "    .dataframe thead th {\n",
       "        text-align: right;\n",
       "    }\n",
       "</style>\n",
       "<table border=\"1\" class=\"dataframe\">\n",
       "  <thead>\n",
       "    <tr style=\"text-align: right;\">\n",
       "      <th></th>\n",
       "      <th>Area</th>\n",
       "      <th>Perimeter</th>\n",
       "      <th>Major_Axis_Length</th>\n",
       "      <th>Minor_Axis_Length</th>\n",
       "      <th>Convex_Area</th>\n",
       "      <th>Equiv_Diameter</th>\n",
       "      <th>Eccentricity</th>\n",
       "      <th>Solidity</th>\n",
       "      <th>Extent</th>\n",
       "      <th>Roundness</th>\n",
       "      <th>Aspect_Ration</th>\n",
       "      <th>Compactness</th>\n",
       "      <th>Class</th>\n",
       "    </tr>\n",
       "  </thead>\n",
       "  <tbody>\n",
       "    <tr>\n",
       "      <th>0</th>\n",
       "      <td>56276</td>\n",
       "      <td>888.242</td>\n",
       "      <td>326.1485</td>\n",
       "      <td>220.2388</td>\n",
       "      <td>56831</td>\n",
       "      <td>267.6805</td>\n",
       "      <td>0.7376</td>\n",
       "      <td>0.9902</td>\n",
       "      <td>0.7453</td>\n",
       "      <td>0.8963</td>\n",
       "      <td>1.4809</td>\n",
       "      <td>0.8207</td>\n",
       "      <td>Çerçevelik</td>\n",
       "    </tr>\n",
       "    <tr>\n",
       "      <th>1</th>\n",
       "      <td>76631</td>\n",
       "      <td>1068.146</td>\n",
       "      <td>417.1932</td>\n",
       "      <td>234.2289</td>\n",
       "      <td>77280</td>\n",
       "      <td>312.3614</td>\n",
       "      <td>0.8275</td>\n",
       "      <td>0.9916</td>\n",
       "      <td>0.7151</td>\n",
       "      <td>0.8440</td>\n",
       "      <td>1.7811</td>\n",
       "      <td>0.7487</td>\n",
       "      <td>Çerçevelik</td>\n",
       "    </tr>\n",
       "    <tr>\n",
       "      <th>2</th>\n",
       "      <td>71623</td>\n",
       "      <td>1082.987</td>\n",
       "      <td>435.8328</td>\n",
       "      <td>211.0457</td>\n",
       "      <td>72663</td>\n",
       "      <td>301.9822</td>\n",
       "      <td>0.8749</td>\n",
       "      <td>0.9857</td>\n",
       "      <td>0.7400</td>\n",
       "      <td>0.7674</td>\n",
       "      <td>2.0651</td>\n",
       "      <td>0.6929</td>\n",
       "      <td>Çerçevelik</td>\n",
       "    </tr>\n",
       "    <tr>\n",
       "      <th>3</th>\n",
       "      <td>66458</td>\n",
       "      <td>992.051</td>\n",
       "      <td>381.5638</td>\n",
       "      <td>222.5322</td>\n",
       "      <td>67118</td>\n",
       "      <td>290.8899</td>\n",
       "      <td>0.8123</td>\n",
       "      <td>0.9902</td>\n",
       "      <td>0.7396</td>\n",
       "      <td>0.8486</td>\n",
       "      <td>1.7146</td>\n",
       "      <td>0.7624</td>\n",
       "      <td>Çerçevelik</td>\n",
       "    </tr>\n",
       "    <tr>\n",
       "      <th>4</th>\n",
       "      <td>66107</td>\n",
       "      <td>998.146</td>\n",
       "      <td>383.8883</td>\n",
       "      <td>220.4545</td>\n",
       "      <td>67117</td>\n",
       "      <td>290.1207</td>\n",
       "      <td>0.8187</td>\n",
       "      <td>0.9850</td>\n",
       "      <td>0.6752</td>\n",
       "      <td>0.8338</td>\n",
       "      <td>1.7413</td>\n",
       "      <td>0.7557</td>\n",
       "      <td>Çerçevelik</td>\n",
       "    </tr>\n",
       "  </tbody>\n",
       "</table>\n",
       "</div>"
      ],
      "text/plain": [
       "    Area  Perimeter  Major_Axis_Length  Minor_Axis_Length  Convex_Area  \\\n",
       "0  56276    888.242           326.1485           220.2388        56831   \n",
       "1  76631   1068.146           417.1932           234.2289        77280   \n",
       "2  71623   1082.987           435.8328           211.0457        72663   \n",
       "3  66458    992.051           381.5638           222.5322        67118   \n",
       "4  66107    998.146           383.8883           220.4545        67117   \n",
       "\n",
       "   Equiv_Diameter  Eccentricity  Solidity  Extent  Roundness  Aspect_Ration  \\\n",
       "0        267.6805        0.7376    0.9902  0.7453     0.8963         1.4809   \n",
       "1        312.3614        0.8275    0.9916  0.7151     0.8440         1.7811   \n",
       "2        301.9822        0.8749    0.9857  0.7400     0.7674         2.0651   \n",
       "3        290.8899        0.8123    0.9902  0.7396     0.8486         1.7146   \n",
       "4        290.1207        0.8187    0.9850  0.6752     0.8338         1.7413   \n",
       "\n",
       "   Compactness       Class  \n",
       "0       0.8207  Çerçevelik  \n",
       "1       0.7487  Çerçevelik  \n",
       "2       0.6929  Çerçevelik  \n",
       "3       0.7624  Çerçevelik  \n",
       "4       0.7557  Çerçevelik  "
      ]
     },
     "execution_count": 4,
     "metadata": {},
     "output_type": "execute_result"
    }
   ],
   "source": [
    "path = os.getcwd() + '\\data\\Pumpkin_Seeds_Dataset.xlsx'\n",
    "df = pd.read_excel(path, header=0, names=None)\n",
    "df.head()"
   ]
  },
  {
   "cell_type": "code",
   "execution_count": 6,
   "id": "59b484e1-ecc3-4923-9ae2-5c39e91aa540",
   "metadata": {},
   "outputs": [],
   "source": [
    "# We first divide the input variables (X) from the the label (y).\n",
    "# We then transform y (which is a categorical value) into numerical values. \n",
    "X_df, y_df = remove_labels(df, 'Class')\n",
    "y_df = y_df.factorize()[0]"
   ]
  },
  {
   "cell_type": "code",
   "execution_count": 7,
   "id": "c23f3d20-9d12-47dd-83ac-924662b2a1e6",
   "metadata": {},
   "outputs": [],
   "source": [
    "# We reduce the dataset to 2 dimensions using PCA algorithm. \n",
    "from sklearn.decomposition import PCA\n",
    "\n",
    "pca = PCA(n_components=2)\n",
    "df_reduced = pca.fit_transform(X_df)"
   ]
  },
  {
   "cell_type": "code",
   "execution_count": 8,
   "id": "b1d8dcc6-b4f3-4b1a-a19c-7dc110716889",
   "metadata": {},
   "outputs": [],
   "source": [
    "df_reduced = pd.DataFrame(df_reduced, columns=[\"c1\", \"c2\"])"
   ]
  },
  {
   "cell_type": "code",
   "execution_count": 9,
   "id": "6a2b81b1-47e7-4345-8dec-b8cdf9531b27",
   "metadata": {},
   "outputs": [
    {
     "data": {
      "text/html": [
       "<div>\n",
       "<style scoped>\n",
       "    .dataframe tbody tr th:only-of-type {\n",
       "        vertical-align: middle;\n",
       "    }\n",
       "\n",
       "    .dataframe tbody tr th {\n",
       "        vertical-align: top;\n",
       "    }\n",
       "\n",
       "    .dataframe thead th {\n",
       "        text-align: right;\n",
       "    }\n",
       "</style>\n",
       "<table border=\"1\" class=\"dataframe\">\n",
       "  <thead>\n",
       "    <tr style=\"text-align: right;\">\n",
       "      <th></th>\n",
       "      <th>c1</th>\n",
       "      <th>c2</th>\n",
       "    </tr>\n",
       "  </thead>\n",
       "  <tbody>\n",
       "    <tr>\n",
       "      <th>0</th>\n",
       "      <td>-34691.726278</td>\n",
       "      <td>-85.040696</td>\n",
       "    </tr>\n",
       "    <tr>\n",
       "      <th>1</th>\n",
       "      <td>-5838.174867</td>\n",
       "      <td>-122.076406</td>\n",
       "    </tr>\n",
       "    <tr>\n",
       "      <th>2</th>\n",
       "      <td>-12642.822000</td>\n",
       "      <td>181.001332</td>\n",
       "    </tr>\n",
       "    <tr>\n",
       "      <th>3</th>\n",
       "      <td>-20217.334127</td>\n",
       "      <td>-62.173569</td>\n",
       "    </tr>\n",
       "    <tr>\n",
       "      <th>4</th>\n",
       "      <td>-20465.296548</td>\n",
       "      <td>186.302969</td>\n",
       "    </tr>\n",
       "    <tr>\n",
       "      <th>5</th>\n",
       "      <td>-10611.583807</td>\n",
       "      <td>-13.697517</td>\n",
       "    </tr>\n",
       "    <tr>\n",
       "      <th>6</th>\n",
       "      <td>-10586.218184</td>\n",
       "      <td>-196.273312</td>\n",
       "    </tr>\n",
       "    <tr>\n",
       "      <th>7</th>\n",
       "      <td>-15579.618163</td>\n",
       "      <td>-14.012438</td>\n",
       "    </tr>\n",
       "    <tr>\n",
       "      <th>8</th>\n",
       "      <td>21490.970546</td>\n",
       "      <td>101.089401</td>\n",
       "    </tr>\n",
       "    <tr>\n",
       "      <th>9</th>\n",
       "      <td>-10333.337588</td>\n",
       "      <td>-123.294748</td>\n",
       "    </tr>\n",
       "  </tbody>\n",
       "</table>\n",
       "</div>"
      ],
      "text/plain": [
       "             c1          c2\n",
       "0 -34691.726278  -85.040696\n",
       "1  -5838.174867 -122.076406\n",
       "2 -12642.822000  181.001332\n",
       "3 -20217.334127  -62.173569\n",
       "4 -20465.296548  186.302969\n",
       "5 -10611.583807  -13.697517\n",
       "6 -10586.218184 -196.273312\n",
       "7 -15579.618163  -14.012438\n",
       "8  21490.970546  101.089401\n",
       "9 -10333.337588 -123.294748"
      ]
     },
     "execution_count": 9,
     "metadata": {},
     "output_type": "execute_result"
    }
   ],
   "source": [
    "df_reduced.head(10)"
   ]
  },
  {
   "cell_type": "code",
   "execution_count": 10,
   "id": "af635b2e-31a9-44a4-84d5-9cb67dea7223",
   "metadata": {},
   "outputs": [
    {
     "data": {
      "image/png": "[encoded data removed]",
      "text/plain": [
       "<Figure size 1200x600 with 1 Axes>"
      ]
     },
     "metadata": {},
     "output_type": "display_data"
    }
   ],
   "source": [
    "#If it's 2D, it's easier to represent it in a plot:\n",
    "\n",
    "import matplotlib.pyplot as plt\n",
    "%matplotlib inline\n",
    "\n",
    "plt.figure(figsize=(12, 6))\n",
    "plt.plot(df_reduced[\"c1\"][y_df==0], df_reduced[\"c2\"][y_df==0], \"yo\", label=\"normal\")\n",
    "plt.plot(df_reduced[\"c1\"][y_df==1], df_reduced[\"c2\"][y_df==1], \"bs\", label=\"adware\")\n",
    "plt.plot(df_reduced[\"c1\"][y_df==2], df_reduced[\"c2\"][y_df==2], \"g^\", label=\"malware\")\n",
    "plt.xlabel(\"c1\", fontsize=15)\n",
    "plt.ylabel(\"c2\", fontsize=15, rotation=0)\n",
    "plt.show()"
   ]
  },
  {
   "cell_type": "markdown",
   "id": "53361121-de9d-44db-9522-248b2f5eecc7",
   "metadata": {},
   "source": [
    "However, if our objective is not to visualize the data set, but to reduce the dimensionality of the original data set, instead of arbitrarily selecting the number of dimensions, sklearn provides us with a mechanism to select those dimensions that maintain a certain percentage of variance"
   ]
  },
  {
   "cell_type": "code",
   "execution_count": 11,
   "id": "a9d332d6-14cb-4ffd-9deb-11c10e79b8ae",
   "metadata": {},
   "outputs": [],
   "source": [
    "# We reduce the dataset maintaining 99,9% of the variance \n",
    "from sklearn.decomposition import PCA\n",
    "\n",
    "pca = PCA(n_components=0.999)\n",
    "df_reduced = pca.fit_transform(X_df)"
   ]
  },
  {
   "cell_type": "code",
   "execution_count": 12,
   "id": "154bc8df-8a9a-4791-b207-2908d77c2acc",
   "metadata": {},
   "outputs": [
    {
     "name": "stdout",
     "output_type": "stream",
     "text": [
      "Number of components: 1\n"
     ]
    }
   ],
   "source": [
    "print(\"Number of components:\", pca.n_components_)"
   ]
  },
  {
   "cell_type": "code",
   "execution_count": 13,
   "id": "66bea88f-6b5c-4b1a-82b7-d6beab72a4c2",
   "metadata": {},
   "outputs": [
    {
     "data": {
      "text/html": [
       "<div>\n",
       "<style scoped>\n",
       "    .dataframe tbody tr th:only-of-type {\n",
       "        vertical-align: middle;\n",
       "    }\n",
       "\n",
       "    .dataframe tbody tr th {\n",
       "        vertical-align: top;\n",
       "    }\n",
       "\n",
       "    .dataframe thead th {\n",
       "        text-align: right;\n",
       "    }\n",
       "</style>\n",
       "<table border=\"1\" class=\"dataframe\">\n",
       "  <thead>\n",
       "    <tr style=\"text-align: right;\">\n",
       "      <th></th>\n",
       "      <th>c1</th>\n",
       "      <th>Class</th>\n",
       "    </tr>\n",
       "  </thead>\n",
       "  <tbody>\n",
       "    <tr>\n",
       "      <th>0</th>\n",
       "      <td>-34691.726278</td>\n",
       "      <td>0</td>\n",
       "    </tr>\n",
       "    <tr>\n",
       "      <th>1</th>\n",
       "      <td>-5838.174867</td>\n",
       "      <td>0</td>\n",
       "    </tr>\n",
       "    <tr>\n",
       "      <th>2</th>\n",
       "      <td>-12642.822000</td>\n",
       "      <td>0</td>\n",
       "    </tr>\n",
       "    <tr>\n",
       "      <th>3</th>\n",
       "      <td>-20217.334127</td>\n",
       "      <td>0</td>\n",
       "    </tr>\n",
       "    <tr>\n",
       "      <th>4</th>\n",
       "      <td>-20465.296548</td>\n",
       "      <td>0</td>\n",
       "    </tr>\n",
       "    <tr>\n",
       "      <th>...</th>\n",
       "      <td>...</td>\n",
       "      <td>...</td>\n",
       "    </tr>\n",
       "    <tr>\n",
       "      <th>2495</th>\n",
       "      <td>-1518.677063</td>\n",
       "      <td>1</td>\n",
       "    </tr>\n",
       "    <tr>\n",
       "      <th>2496</th>\n",
       "      <td>-15771.441586</td>\n",
       "      <td>1</td>\n",
       "    </tr>\n",
       "    <tr>\n",
       "      <th>2497</th>\n",
       "      <td>10273.985857</td>\n",
       "      <td>1</td>\n",
       "    </tr>\n",
       "    <tr>\n",
       "      <th>2498</th>\n",
       "      <td>-885.731677</td>\n",
       "      <td>1</td>\n",
       "    </tr>\n",
       "    <tr>\n",
       "      <th>2499</th>\n",
       "      <td>6044.876385</td>\n",
       "      <td>1</td>\n",
       "    </tr>\n",
       "  </tbody>\n",
       "</table>\n",
       "<p>2500 rows × 2 columns</p>\n",
       "</div>"
      ],
      "text/plain": [
       "                c1  Class\n",
       "0    -34691.726278      0\n",
       "1     -5838.174867      0\n",
       "2    -12642.822000      0\n",
       "3    -20217.334127      0\n",
       "4    -20465.296548      0\n",
       "...            ...    ...\n",
       "2495  -1518.677063      1\n",
       "2496 -15771.441586      1\n",
       "2497  10273.985857      1\n",
       "2498   -885.731677      1\n",
       "2499   6044.876385      1\n",
       "\n",
       "[2500 rows x 2 columns]"
      ]
     },
     "execution_count": 13,
     "metadata": {},
     "output_type": "execute_result"
    }
   ],
   "source": [
    "# We transform it into a Pandas dataframe.\n",
    "df_reduced = pd.DataFrame(df_reduced, columns=[\"c1\"])\n",
    "df_reduced[\"Class\"] = y_df\n",
    "df_reduced"
   ]
  },
  {
   "cell_type": "markdown",
   "id": "21085b2b-86cc-413a-9263-4efa3ee934d0",
   "metadata": {},
   "source": [
    "Now we can split the data and apply the algorithm we consider in order to make the prediction."
   ]
  },
  {
   "cell_type": "code",
   "execution_count": 14,
   "id": "0c001e5d-6def-4535-b2ca-697c970b3e07",
   "metadata": {},
   "outputs": [],
   "source": [
    "train_set, val_set, test_set = train_val_test_split(df_reduced)"
   ]
  },
  {
   "cell_type": "code",
   "execution_count": 15,
   "id": "8fba1e2d-4247-422c-b94d-6803747e6ff1",
   "metadata": {},
   "outputs": [],
   "source": [
    "X_train, y_train = remove_labels(train_set, 'Class')\n",
    "X_val, y_val = remove_labels(val_set, 'Class')\n",
    "X_test, y_test = remove_labels(test_set, 'Class')"
   ]
  },
  {
   "cell_type": "code",
   "execution_count": 18,
   "id": "97d1839a-cff1-4aac-bedb-2b37edab5b1a",
   "metadata": {},
   "outputs": [
    {
     "data": {
      "text/plain": [
       "RandomForestClassifier(max_depth=80, n_estimators=200, n_jobs=-1,\n",
       "                       random_state=42)"
      ]
     },
     "execution_count": 18,
     "metadata": {},
     "output_type": "execute_result"
    }
   ],
   "source": [
    "from sklearn.ensemble import RandomForestClassifier #We use RANDOM FOREST\n",
    "\n",
    "clf_rnd = RandomForestClassifier(n_estimators=200, max_depth=80, random_state=42, n_jobs=-1)\n",
    "clf_rnd.fit(X_train, y_train)"
   ]
  },
  {
   "cell_type": "code",
   "execution_count": 19,
   "id": "72aa475a-5368-40ca-be90-4cd6cc047a40",
   "metadata": {},
   "outputs": [
    {
     "name": "stdout",
     "output_type": "stream",
     "text": [
      "F1 score validation test: 0.5371209306238208\n"
     ]
    }
   ],
   "source": [
    "y_val_pred = clf_rnd.predict(X_val) #We predict with the validation set\n",
    "print(\"F1 score validation test:\", f1_score(y_val_pred, y_val, average='weighted'))"
   ]
  },
  {
   "cell_type": "code",
   "execution_count": 20,
   "id": "c3ae3d57-5299-4b62-989e-60df6f181ac9",
   "metadata": {},
   "outputs": [
    {
     "name": "stdout",
     "output_type": "stream",
     "text": [
      "F1 score test set: 0.5573967642526965\n"
     ]
    }
   ],
   "source": [
    "y_test_pred = clf_rnd.predict(X_test) #We predict with the test data\n",
    "print(\"F1 score test set:\", f1_score(y_test_pred, y_test, average='weighted'))"
   ]
  },
  {
   "cell_type": "markdown",
   "id": "eb1dbf43-9a8a-4b87-a325-593ccf737bbb",
   "metadata": {},
   "source": [
    "We see that the F1 score in both cases is very low. We will try to improve this by selecting the proper hyperparameters of the random forest."
   ]
  },
  {
   "cell_type": "code",
   "execution_count": 22,
   "id": "1ac998f1-a513-432b-8eec-b93873fdc5a9",
   "metadata": {},
   "outputs": [
    {
     "data": {
      "text/plain": [
       "GridSearchCV(cv=5, estimator=RandomForestClassifier(n_jobs=-1, random_state=42),\n",
       "             param_grid=[{'max_features': [0.5, 0.75, 1.0],\n",
       "                          'max_leaf_nodes': [16, 24, 36],\n",
       "                          'n_estimators': [100, 500, 1000]},\n",
       "                         {'bootstrap': [False],\n",
       "                          'max_features': [0.5, 0.75, 1.0],\n",
       "                          'n_estimators': [100, 500]}],\n",
       "             return_train_score=True, scoring='f1_weighted')"
      ]
     },
     "execution_count": 22,
     "metadata": {},
     "output_type": "execute_result"
    }
   ],
   "source": [
    "# We are going to use Grid Search to select the better model obtained with Random Forest\n",
    "from sklearn.model_selection import GridSearchCV\n",
    "\n",
    "param_grid = [\n",
    "    {'n_estimators': [100, 500, 1000], 'max_leaf_nodes': [16, 24, 36], 'max_features': [0.5, 0.75, 1.0]},\n",
    "    {'bootstrap': [False], 'n_estimators': [100, 500], 'max_features': [0.5, 0.75, 1.0]},\n",
    "]\n",
    "\n",
    "\n",
    "rnd_clf = RandomForestClassifier(n_jobs=-1, random_state=42)\n",
    "\n",
    "\n",
    "grid_search = GridSearchCV(rnd_clf, param_grid, cv=5,\n",
    "                           scoring='f1_weighted', return_train_score=True)\n",
    "\n",
    "grid_search.fit(X_train, y_train)"
   ]
  },
  {
   "cell_type": "code",
   "execution_count": 23,
   "id": "0978ecb3-1101-40e4-a7aa-66e39d756519",
   "metadata": {},
   "outputs": [
    {
     "data": {
      "text/plain": [
       "{'max_features': 0.5, 'max_leaf_nodes': 36, 'n_estimators': 100}"
      ]
     },
     "execution_count": 23,
     "metadata": {},
     "output_type": "execute_result"
    }
   ],
   "source": [
    "grid_search.best_params_"
   ]
  },
  {
   "cell_type": "code",
   "execution_count": 24,
   "id": "0f9f7100-21ac-444e-b3d6-e0878e636aed",
   "metadata": {},
   "outputs": [
    {
     "data": {
      "text/plain": [
       "RandomForestClassifier(max_features=0.5, max_leaf_nodes=36, n_jobs=-1,\n",
       "                       random_state=42)"
      ]
     },
     "execution_count": 24,
     "metadata": {},
     "output_type": "execute_result"
    }
   ],
   "source": [
    "grid_search.best_estimator_"
   ]
  },
  {
   "cell_type": "code",
   "execution_count": 25,
   "id": "94812f34-dbc6-47f5-876f-d705c9cc3139",
   "metadata": {},
   "outputs": [
    {
     "data": {
      "text/plain": [
       "RandomizedSearchCV(cv=2, estimator=RandomForestClassifier(n_jobs=-1), n_iter=5,\n",
       "                   param_distributions={'max_depth': <scipy.stats._distn_infrastructure.rv_discrete_frozen object at 0x00000264C7325DC0>,\n",
       "                                        'n_estimators': <scipy.stats._distn_infrastructure.rv_discrete_frozen object at 0x00000264C73251C0>},\n",
       "                   scoring='f1_weighted')"
      ]
     },
     "execution_count": 25,
     "metadata": {},
     "output_type": "execute_result"
    }
   ],
   "source": [
    "#Now we do it randomly\n",
    "from sklearn.model_selection import RandomizedSearchCV\n",
    "from scipy.stats import randint\n",
    "\n",
    "#We decide a high range of parameters to try\n",
    "\n",
    "param_distribs = {\n",
    "        'n_estimators': randint(low=1, high=200),\n",
    "        'max_depth': randint(low=8, high=50),\n",
    "    }\n",
    "\n",
    "rnd_clf = RandomForestClassifier(n_jobs=-1)\n",
    "\n",
    "\n",
    "rnd_search = RandomizedSearchCV(rnd_clf, param_distributions=param_distribs,\n",
    "                                n_iter=5, cv=2, scoring='f1_weighted')\n",
    "\n",
    "rnd_search.fit(X_train, y_train)"
   ]
  },
  {
   "cell_type": "code",
   "execution_count": 26,
   "id": "5c8b8925-f2a6-4b5c-a13a-82e8e3e055d2",
   "metadata": {},
   "outputs": [
    {
     "data": {
      "text/plain": [
       "{'max_depth': 36, 'n_estimators': 181}"
      ]
     },
     "execution_count": 26,
     "metadata": {},
     "output_type": "execute_result"
    }
   ],
   "source": [
    "rnd_search.best_params_"
   ]
  },
  {
   "cell_type": "code",
   "execution_count": 27,
   "id": "44275005-e00c-4ddc-beda-308526143ad3",
   "metadata": {},
   "outputs": [
    {
     "data": {
      "text/plain": [
       "RandomForestClassifier(max_depth=36, n_estimators=181, n_jobs=-1)"
      ]
     },
     "execution_count": 27,
     "metadata": {},
     "output_type": "execute_result"
    }
   ],
   "source": [
    "rnd_search.best_estimator_"
   ]
  },
  {
   "cell_type": "code",
   "execution_count": 28,
   "id": "27d44107-822c-44fa-962c-71e3c8f7b687",
   "metadata": {},
   "outputs": [],
   "source": [
    "# We select the best model\n",
    "clf_rnd = rnd_search.best_estimator_"
   ]
  },
  {
   "cell_type": "code",
   "execution_count": 30,
   "id": "3b68204c-d1eb-42a9-9272-536c65f30ade",
   "metadata": {},
   "outputs": [
    {
     "name": "stdout",
     "output_type": "stream",
     "text": [
      "F1 score Train Set: 1.0\n"
     ]
    }
   ],
   "source": [
    "# We predict with the train set\n",
    "y_train_pred = clf_rnd.predict(X_train)\n",
    "print(\"F1 score Train Set:\", f1_score(y_train_pred, y_train, average='weighted')) #A F1 OF 1.0 indicates overfitting"
   ]
  },
  {
   "cell_type": "code",
   "execution_count": 31,
   "id": "72251fbd-13b9-4b1a-9829-eb33f207cd98",
   "metadata": {},
   "outputs": [
    {
     "name": "stdout",
     "output_type": "stream",
     "text": [
      "F1 score Validation Set: 0.5371209306238208\n"
     ]
    }
   ],
   "source": [
    "# We predict with the validation set\n",
    "y_val_pred = clf_rnd.predict(X_val)\n",
    "print(\"F1 score Validation Set:\", f1_score(y_val_pred, y_val, average='weighted')) "
   ]
  },
  {
   "cell_type": "markdown",
   "id": "eb3a8ce2-c72f-4eae-b49f-ce6518692fe1",
   "metadata": {},
   "source": [
    "Definitely, there is overfitting because we see a small f1 in the validation set and a 100% f1 score in the train set. Changing the parameters didn't work and didn't improve our algorithm. After doing some research I found some things that could help to improve the performance:\n",
    "\n",
    "-Check the class distribution: If the dataset is imbalanced, the classifier might be biased towards the majority class. You can use techniques such as oversampling, undersampling, or SMOTE to balance the class distribution.\n",
    "\n",
    "-Try other classification algorithms: Random forest is a powerful algorithm, but it might not be the best fit for your dataset. You can try other algorithms such as logistic regression, support vector machines, or gradient boosting.\n",
    "\n",
    "-Look for additional features: PCA is a dimensionality reduction technique that can reduce the number of features but might also discard some important information. You can try adding new features to the dataset to see if they improve the performance.\n",
    "\n",
    "-Increase the number of components: PCA reduces the number of features while preserving the variance, but it might not capture all the information in the original dataset. You can try increasing the number of components to see if it improves the performance.\n",
    "\n",
    "-Check for overfitting: If the model is overfitting the training data, it might not generalize well to new data. You can use techniques such as cross-validation or regularization to prevent overfitting.\n",
    "\n",
    "By trying these methods, you may be able to improve the performance of the model and increase the F1 score."
   ]
  },
  {
   "cell_type": "code",
   "execution_count": null,
   "id": "7ee3e2f5-0e05-4a83-ab38-76c2f9ac49a6",
   "metadata": {},
   "outputs": [],
   "source": []
  }
 ],
 "metadata": {
  "kernelspec": {
   "display_name": "Python 3 (ipykernel)",
   "language": "python",
   "name": "python3"
  },
  "language_info": {
   "codemirror_mode": {
    "name": "ipython",
    "version": 3
   },
   "file_extension": ".py",
   "mimetype": "text/x-python",
   "name": "python",
   "nbconvert_exporter": "python",
   "pygments_lexer": "ipython3",
   "version": "3.9.13"
  }
 },
 "nbformat": 4,
 "nbformat_minor": 5
}
