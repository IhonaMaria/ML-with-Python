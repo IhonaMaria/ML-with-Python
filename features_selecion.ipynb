{
 "cells": [
  {
   "cell_type": "markdown",
   "id": "9a0cea8d-45a0-4272-a0e4-cfc43fd48e0f",
   "metadata": {},
   "source": [
    "# FEAUTRES SELECTION"
   ]
  },
  {
   "cell_type": "markdown",
   "id": "d23c6187-7fe3-4445-87e1-8a7f045ef21f",
   "metadata": {},
   "source": [
    "In this section we are going to learn how to select and extract important characteristics of a dataset. The difference of extraction and selection is that when you extract characteristics you reduce the input characteristics and the characteristics that remain are different than the original characteristics, you change them. Characteristics extraction is also known as \"dimensional reduction algorithms\" and the most common method is PCA.To reduce the characteristics is really useful and important because it improves the performance of the model and the quality of the dataset.\n",
    "We are going to use the Pumpkin seed dataset (https://www.kaggle.com/datasets/muratkokludataset/pumpkin-seeds-dataset) as an example. "
   ]
  },
  {
   "cell_type": "code",
   "execution_count": 2,
   "id": "7070c9b6-e659-4645-bc38-0135e918d69a",
   "metadata": {},
   "outputs": [],
   "source": [
    "import pandas as pd\n",
    "import os\n",
    "import numpy as np\n",
    "from sklearn.model_selection import train_test_split\n",
    "from sklearn.preprocessing import RobustScaler\n",
    "from sklearn.metrics import f1_score"
   ]
  },
  {
   "cell_type": "code",
   "execution_count": 3,
   "id": "ac26a869-e189-4164-a78b-c0c91b5bf9e0",
   "metadata": {},
   "outputs": [],
   "source": [
    "def train_val_test_split(df, rstate=42, shuffle=True, stratify=None):\n",
    "    strat = df[stratify] if stratify else None\n",
    "    train_set, test_set = train_test_split(\n",
    "        df, test_size=0.4, random_state=rstate, shuffle=shuffle, stratify=strat)\n",
    "    strat = test_set[stratify] if stratify else None\n",
    "    val_set, test_set = train_test_split(\n",
    "        test_set, test_size=0.5, random_state=rstate, shuffle=shuffle, stratify=strat)\n",
    "    return (train_set, val_set, test_set)"
   ]
  },
  {
   "cell_type": "code",
   "execution_count": 4,
   "id": "655c305f-889d-4704-be0d-d76937505416",
   "metadata": {},
   "outputs": [],
   "source": [
    "def remove_labels(df, label_name):\n",
    "    X = df.drop(label_name, axis=1)\n",
    "    y = df[label_name].copy()\n",
    "    return (X, y)"
   ]
  },
  {
   "cell_type": "code",
   "execution_count": 5,
   "id": "82258faf-5455-4ecf-a218-7ec4d80a45d9",
   "metadata": {},
   "outputs": [
    {
     "data": {
      "text/html": [
       "<div>\n",
       "<style scoped>\n",
       "    .dataframe tbody tr th:only-of-type {\n",
       "        vertical-align: middle;\n",
       "    }\n",
       "\n",
       "    .dataframe tbody tr th {\n",
       "        vertical-align: top;\n",
       "    }\n",
       "\n",
       "    .dataframe thead th {\n",
       "        text-align: right;\n",
       "    }\n",
       "</style>\n",
       "<table border=\"1\" class=\"dataframe\">\n",
       "  <thead>\n",
       "    <tr style=\"text-align: right;\">\n",
       "      <th></th>\n",
       "      <th>Area</th>\n",
       "      <th>Perimeter</th>\n",
       "      <th>Major_Axis_Length</th>\n",
       "      <th>Minor_Axis_Length</th>\n",
       "      <th>Convex_Area</th>\n",
       "      <th>Equiv_Diameter</th>\n",
       "      <th>Eccentricity</th>\n",
       "      <th>Solidity</th>\n",
       "      <th>Extent</th>\n",
       "      <th>Roundness</th>\n",
       "      <th>Aspect_Ration</th>\n",
       "      <th>Compactness</th>\n",
       "      <th>Class</th>\n",
       "    </tr>\n",
       "  </thead>\n",
       "  <tbody>\n",
       "    <tr>\n",
       "      <th>0</th>\n",
       "      <td>56276</td>\n",
       "      <td>888.242</td>\n",
       "      <td>326.1485</td>\n",
       "      <td>220.2388</td>\n",
       "      <td>56831</td>\n",
       "      <td>267.6805</td>\n",
       "      <td>0.7376</td>\n",
       "      <td>0.9902</td>\n",
       "      <td>0.7453</td>\n",
       "      <td>0.8963</td>\n",
       "      <td>1.4809</td>\n",
       "      <td>0.8207</td>\n",
       "      <td>Çerçevelik</td>\n",
       "    </tr>\n",
       "    <tr>\n",
       "      <th>1</th>\n",
       "      <td>76631</td>\n",
       "      <td>1068.146</td>\n",
       "      <td>417.1932</td>\n",
       "      <td>234.2289</td>\n",
       "      <td>77280</td>\n",
       "      <td>312.3614</td>\n",
       "      <td>0.8275</td>\n",
       "      <td>0.9916</td>\n",
       "      <td>0.7151</td>\n",
       "      <td>0.8440</td>\n",
       "      <td>1.7811</td>\n",
       "      <td>0.7487</td>\n",
       "      <td>Çerçevelik</td>\n",
       "    </tr>\n",
       "    <tr>\n",
       "      <th>2</th>\n",
       "      <td>71623</td>\n",
       "      <td>1082.987</td>\n",
       "      <td>435.8328</td>\n",
       "      <td>211.0457</td>\n",
       "      <td>72663</td>\n",
       "      <td>301.9822</td>\n",
       "      <td>0.8749</td>\n",
       "      <td>0.9857</td>\n",
       "      <td>0.7400</td>\n",
       "      <td>0.7674</td>\n",
       "      <td>2.0651</td>\n",
       "      <td>0.6929</td>\n",
       "      <td>Çerçevelik</td>\n",
       "    </tr>\n",
       "    <tr>\n",
       "      <th>3</th>\n",
       "      <td>66458</td>\n",
       "      <td>992.051</td>\n",
       "      <td>381.5638</td>\n",
       "      <td>222.5322</td>\n",
       "      <td>67118</td>\n",
       "      <td>290.8899</td>\n",
       "      <td>0.8123</td>\n",
       "      <td>0.9902</td>\n",
       "      <td>0.7396</td>\n",
       "      <td>0.8486</td>\n",
       "      <td>1.7146</td>\n",
       "      <td>0.7624</td>\n",
       "      <td>Çerçevelik</td>\n",
       "    </tr>\n",
       "    <tr>\n",
       "      <th>4</th>\n",
       "      <td>66107</td>\n",
       "      <td>998.146</td>\n",
       "      <td>383.8883</td>\n",
       "      <td>220.4545</td>\n",
       "      <td>67117</td>\n",
       "      <td>290.1207</td>\n",
       "      <td>0.8187</td>\n",
       "      <td>0.9850</td>\n",
       "      <td>0.6752</td>\n",
       "      <td>0.8338</td>\n",
       "      <td>1.7413</td>\n",
       "      <td>0.7557</td>\n",
       "      <td>Çerçevelik</td>\n",
       "    </tr>\n",
       "  </tbody>\n",
       "</table>\n",
       "</div>"
      ],
      "text/plain": [
       "    Area  Perimeter  Major_Axis_Length  Minor_Axis_Length  Convex_Area  \\\n",
       "0  56276    888.242           326.1485           220.2388        56831   \n",
       "1  76631   1068.146           417.1932           234.2289        77280   \n",
       "2  71623   1082.987           435.8328           211.0457        72663   \n",
       "3  66458    992.051           381.5638           222.5322        67118   \n",
       "4  66107    998.146           383.8883           220.4545        67117   \n",
       "\n",
       "   Equiv_Diameter  Eccentricity  Solidity  Extent  Roundness  Aspect_Ration  \\\n",
       "0        267.6805        0.7376    0.9902  0.7453     0.8963         1.4809   \n",
       "1        312.3614        0.8275    0.9916  0.7151     0.8440         1.7811   \n",
       "2        301.9822        0.8749    0.9857  0.7400     0.7674         2.0651   \n",
       "3        290.8899        0.8123    0.9902  0.7396     0.8486         1.7146   \n",
       "4        290.1207        0.8187    0.9850  0.6752     0.8338         1.7413   \n",
       "\n",
       "   Compactness       Class  \n",
       "0       0.8207  Çerçevelik  \n",
       "1       0.7487  Çerçevelik  \n",
       "2       0.6929  Çerçevelik  \n",
       "3       0.7624  Çerçevelik  \n",
       "4       0.7557  Çerçevelik  "
      ]
     },
     "execution_count": 5,
     "metadata": {},
     "output_type": "execute_result"
    }
   ],
   "source": [
    "path = os.getcwd() + '\\data\\Pumpkin_Seeds_Dataset.xlsx'\n",
    "df = pd.read_excel(path, header=0, names=None)\n",
    "df.head()"
   ]
  },
  {
   "cell_type": "code",
   "execution_count": 6,
   "id": "f5d1e855-c285-4bf9-9528-9fb1a8fcafd1",
   "metadata": {},
   "outputs": [],
   "source": [
    "train_set, val_set, test_set = train_val_test_split(df) #Let's divide the dataset"
   ]
  },
  {
   "cell_type": "code",
   "execution_count": 7,
   "id": "7fbd054a-de95-4610-97c6-2b40f2c097f1",
   "metadata": {},
   "outputs": [],
   "source": [
    "X_train, y_train = remove_labels(train_set, 'Class')\n",
    "X_val, y_val = remove_labels(val_set, 'Class')\n",
    "X_test, y_test = remove_labels(test_set, 'Class')"
   ]
  },
  {
   "cell_type": "code",
   "execution_count": 9,
   "id": "3b8f32d1-d6cf-4006-bc76-22d8f7f1dee3",
   "metadata": {},
   "outputs": [
    {
     "data": {
      "text/plain": [
       "RandomForestClassifier(n_estimators=50, n_jobs=-1, random_state=42)"
      ]
     },
     "execution_count": 9,
     "metadata": {},
     "output_type": "execute_result"
    }
   ],
   "source": [
    "from sklearn.ensemble import RandomForestClassifier  #We apply RANDOM FOREST\n",
    "\n",
    "clf_rnd = RandomForestClassifier(n_estimators=50, random_state=42, n_jobs=-1)\n",
    "clf_rnd.fit(X_train, y_train)"
   ]
  },
  {
   "cell_type": "code",
   "execution_count": 11,
   "id": "c81b9128-d325-41c6-95d3-3977ac42d20d",
   "metadata": {},
   "outputs": [
    {
     "name": "stdout",
     "output_type": "stream",
     "text": [
      "F1 score: 0.8843157690064165\n"
     ]
    }
   ],
   "source": [
    "y_pred = clf_rnd.predict(X_val) #we predict with the validation set\n",
    "print(\"F1 score:\", f1_score(y_pred, y_val, average='weighted'))"
   ]
  },
  {
   "cell_type": "code",
   "execution_count": 12,
   "id": "af4698fb-a744-4d7b-ad11-7ee55551d7a4",
   "metadata": {},
   "outputs": [
    {
     "data": {
      "text/plain": [
       "array([0.0309045 , 0.03681118, 0.07160577, 0.0379822 , 0.02830559,\n",
       "       0.02774625, 0.11750758, 0.04649365, 0.04254706, 0.15791249,\n",
       "       0.22390359, 0.17828014])"
      ]
     },
     "execution_count": 12,
     "metadata": {},
     "output_type": "execute_result"
    }
   ],
   "source": [
    "#Now we are going to see what characteristics are the most important in the dataset.\n",
    "clf_rnd.feature_importances_"
   ]
  },
  {
   "cell_type": "code",
   "execution_count": 13,
   "id": "f0b3713f-cd2d-4a1f-affb-98cfb09dfc45",
   "metadata": {},
   "outputs": [],
   "source": [
    "feature_importances = {name: score for name, score in zip(list(df), clf_rnd.feature_importances_)} #We extract those characteristics"
   ]
  },
  {
   "cell_type": "code",
   "execution_count": 14,
   "id": "5b99120b-ee2e-4ace-93a5-e18160140995",
   "metadata": {},
   "outputs": [
    {
     "data": {
      "text/plain": [
       "Aspect_Ration        0.223904\n",
       "Compactness          0.178280\n",
       "Roundness            0.157912\n",
       "Eccentricity         0.117508\n",
       "Major_Axis_Length    0.071606\n",
       "Solidity             0.046494\n",
       "Extent               0.042547\n",
       "Minor_Axis_Length    0.037982\n",
       "Perimeter            0.036811\n",
       "Area                 0.030905\n",
       "Convex_Area          0.028306\n",
       "Equiv_Diameter       0.027746\n",
       "dtype: float64"
      ]
     },
     "execution_count": 14,
     "metadata": {},
     "output_type": "execute_result"
    }
   ],
   "source": [
    "feature_importances_sorted = pd.Series(feature_importances).sort_values(ascending=False)\n",
    "feature_importances_sorted.head(20) #We sort the characteristics from the most important to the least"
   ]
  },
  {
   "cell_type": "code",
   "execution_count": 19,
   "id": "4efe7399-610c-4f2d-949b-ab390057bc24",
   "metadata": {},
   "outputs": [
    {
     "data": {
      "text/plain": [
       "['Aspect_Ration',\n",
       " 'Compactness',\n",
       " 'Roundness',\n",
       " 'Eccentricity',\n",
       " 'Major_Axis_Length']"
      ]
     },
     "execution_count": 19,
     "metadata": {},
     "output_type": "execute_result"
    }
   ],
   "source": [
    "# We extract the 5 characteristics with more relevance for the algorithm \n",
    "columns = list(feature_importances_sorted.head(5).index)\n",
    "columns"
   ]
  },
  {
   "cell_type": "code",
   "execution_count": 20,
   "id": "510942e8-d35c-4384-8679-9ec2fb81100c",
   "metadata": {},
   "outputs": [],
   "source": [
    "X_train_reduced = X_train[columns].copy()\n",
    "X_val_reduced = X_val[columns].copy()"
   ]
  },
  {
   "cell_type": "code",
   "execution_count": 21,
   "id": "a19068b8-6807-4eb3-938a-a79407166132",
   "metadata": {},
   "outputs": [
    {
     "data": {
      "text/html": [
       "<div>\n",
       "<style scoped>\n",
       "    .dataframe tbody tr th:only-of-type {\n",
       "        vertical-align: middle;\n",
       "    }\n",
       "\n",
       "    .dataframe tbody tr th {\n",
       "        vertical-align: top;\n",
       "    }\n",
       "\n",
       "    .dataframe thead th {\n",
       "        text-align: right;\n",
       "    }\n",
       "</style>\n",
       "<table border=\"1\" class=\"dataframe\">\n",
       "  <thead>\n",
       "    <tr style=\"text-align: right;\">\n",
       "      <th></th>\n",
       "      <th>Aspect_Ration</th>\n",
       "      <th>Compactness</th>\n",
       "      <th>Roundness</th>\n",
       "      <th>Eccentricity</th>\n",
       "      <th>Major_Axis_Length</th>\n",
       "    </tr>\n",
       "  </thead>\n",
       "  <tbody>\n",
       "    <tr>\n",
       "      <th>348</th>\n",
       "      <td>1.7612</td>\n",
       "      <td>0.7504</td>\n",
       "      <td>0.8320</td>\n",
       "      <td>0.8232</td>\n",
       "      <td>396.6914</td>\n",
       "    </tr>\n",
       "    <tr>\n",
       "      <th>1089</th>\n",
       "      <td>1.8641</td>\n",
       "      <td>0.7306</td>\n",
       "      <td>0.8125</td>\n",
       "      <td>0.8439</td>\n",
       "      <td>414.4705</td>\n",
       "    </tr>\n",
       "    <tr>\n",
       "      <th>1850</th>\n",
       "      <td>2.9151</td>\n",
       "      <td>0.5828</td>\n",
       "      <td>0.6593</td>\n",
       "      <td>0.9393</td>\n",
       "      <td>505.1026</td>\n",
       "    </tr>\n",
       "    <tr>\n",
       "      <th>300</th>\n",
       "      <td>2.1326</td>\n",
       "      <td>0.6824</td>\n",
       "      <td>0.7727</td>\n",
       "      <td>0.8832</td>\n",
       "      <td>465.2679</td>\n",
       "    </tr>\n",
       "    <tr>\n",
       "      <th>1658</th>\n",
       "      <td>2.5135</td>\n",
       "      <td>0.6291</td>\n",
       "      <td>0.7170</td>\n",
       "      <td>0.9174</td>\n",
       "      <td>517.9383</td>\n",
       "    </tr>\n",
       "  </tbody>\n",
       "</table>\n",
       "</div>"
      ],
      "text/plain": [
       "      Aspect_Ration  Compactness  Roundness  Eccentricity  Major_Axis_Length\n",
       "348          1.7612       0.7504     0.8320        0.8232           396.6914\n",
       "1089         1.8641       0.7306     0.8125        0.8439           414.4705\n",
       "1850         2.9151       0.5828     0.6593        0.9393           505.1026\n",
       "300          2.1326       0.6824     0.7727        0.8832           465.2679\n",
       "1658         2.5135       0.6291     0.7170        0.9174           517.9383"
      ]
     },
     "execution_count": 21,
     "metadata": {},
     "output_type": "execute_result"
    }
   ],
   "source": [
    "X_train_reduced.head(5)"
   ]
  },
  {
   "cell_type": "code",
   "execution_count": 22,
   "id": "79172c16-a2b8-4bc5-a590-68881c409c79",
   "metadata": {},
   "outputs": [
    {
     "data": {
      "text/plain": [
       "RandomForestClassifier(n_estimators=50, n_jobs=-1, random_state=42)"
      ]
     },
     "execution_count": 22,
     "metadata": {},
     "output_type": "execute_result"
    }
   ],
   "source": [
    "from sklearn.ensemble import RandomForestClassifier #We apply random forest to the reduced data!\n",
    "\n",
    "clf_rnd = RandomForestClassifier(n_estimators=50, random_state=42, n_jobs=-1)\n",
    "clf_rnd.fit(X_train_reduced, y_train)"
   ]
  },
  {
   "cell_type": "code",
   "execution_count": 23,
   "id": "18f6f7ef-d24e-42b1-9ffb-851a7f494aa0",
   "metadata": {},
   "outputs": [],
   "source": [
    "y_pred = clf_rnd.predict(X_val_reduced) #We predict with the validation set"
   ]
  },
  {
   "cell_type": "code",
   "execution_count": 24,
   "id": "927164c1-575d-4146-ad2a-ab8fa67b92eb",
   "metadata": {},
   "outputs": [
    {
     "name": "stdout",
     "output_type": "stream",
     "text": [
      "F1 score: 0.8507297860838673\n"
     ]
    }
   ],
   "source": [
    "print(\"F1 score:\", f1_score(y_pred, y_val, average='weighted'))"
   ]
  },
  {
   "cell_type": "markdown",
   "id": "69b7d821-31d4-43de-9af6-705a14788169",
   "metadata": {},
   "source": [
    "**Conclusion:** The f1 score of the prediction with the reduced dataset is a bit less than with all the characteristics, meaning that the algorithm is a bit worse. However, with less characteristics the process is computationally faster, so we enter a debate of what is better, to loose a bit of precision but win time or the other way round. In my opinion, this will depend on the situation and the difference between both f1."
   ]
  }
 ],
 "metadata": {
  "kernelspec": {
   "display_name": "Python 3 (ipykernel)",
   "language": "python",
   "name": "python3"
  },
  "language_info": {
   "codemirror_mode": {
    "name": "ipython",
    "version": 3
   },
   "file_extension": ".py",
   "mimetype": "text/x-python",
   "name": "python",
   "nbconvert_exporter": "python",
   "pygments_lexer": "ipython3",
   "version": "3.9.13"
  }
 },
 "nbformat": 4,
 "nbformat_minor": 5
}
