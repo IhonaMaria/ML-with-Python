{
 "cells": [
  {
   "cell_type": "markdown",
   "id": "8fb2d1bf-b984-4c42-8bb4-2174a3656f16",
   "metadata": {},
   "source": [
    "# MODEL SELECTION"
   ]
  },
  {
   "cell_type": "markdown",
   "id": "0c298816-44a4-42d7-99f3-f57c20cf6731",
   "metadata": {},
   "source": [
    "In this exercise we are going to learn how to choose the proper model and parameters with a Random Forest case. We are going to use the Pumpkin seed dataset (https://www.kaggle.com/datasets/muratkokludataset/pumpkin-seeds-dataset) as an example. "
   ]
  },
  {
   "cell_type": "code",
   "execution_count": 82,
   "id": "a5ba50d3-de4b-4a11-af36-7f115630ad6e",
   "metadata": {},
   "outputs": [],
   "source": [
    "import pandas as pd\n",
    "import os\n",
    "import numpy as np\n",
    "from sklearn.model_selection import train_test_split\n",
    "from sklearn.preprocessing import RobustScaler\n",
    "from sklearn.metrics import f1_score"
   ]
  },
  {
   "cell_type": "code",
   "execution_count": 83,
   "id": "8de4786a-a6f6-48a7-9822-650dd8c20265",
   "metadata": {},
   "outputs": [],
   "source": [
    "def train_val_test_split(df, rstate=42, shuffle=True, stratify=None):\n",
    "    strat = df[stratify] if stratify else None\n",
    "    train_set, test_set = train_test_split(\n",
    "        df, test_size=0.4, random_state=rstate, shuffle=shuffle, stratify=strat)\n",
    "    strat = test_set[stratify] if stratify else None\n",
    "    val_set, test_set = train_test_split(\n",
    "        test_set, test_size=0.5, random_state=rstate, shuffle=shuffle, stratify=strat)\n",
    "    return (train_set, val_set, test_set)"
   ]
  },
  {
   "cell_type": "code",
   "execution_count": 84,
   "id": "fe555eb5-afa0-47ea-9cec-a707bdf581ea",
   "metadata": {},
   "outputs": [],
   "source": [
    "def remove_labels(df, label_name):\n",
    "    X = df.drop(label_name, axis=1)\n",
    "    y = df[label_name].copy()\n",
    "    return (X, y)"
   ]
  },
  {
   "cell_type": "code",
   "execution_count": 85,
   "id": "dfd43747-4c2e-4d9c-aeca-8ccaef77cdb2",
   "metadata": {},
   "outputs": [
    {
     "data": {
      "text/html": [
       "<div>\n",
       "<style scoped>\n",
       "    .dataframe tbody tr th:only-of-type {\n",
       "        vertical-align: middle;\n",
       "    }\n",
       "\n",
       "    .dataframe tbody tr th {\n",
       "        vertical-align: top;\n",
       "    }\n",
       "\n",
       "    .dataframe thead th {\n",
       "        text-align: right;\n",
       "    }\n",
       "</style>\n",
       "<table border=\"1\" class=\"dataframe\">\n",
       "  <thead>\n",
       "    <tr style=\"text-align: right;\">\n",
       "      <th></th>\n",
       "      <th>Area</th>\n",
       "      <th>Perimeter</th>\n",
       "      <th>Major_Axis_Length</th>\n",
       "      <th>Minor_Axis_Length</th>\n",
       "      <th>Convex_Area</th>\n",
       "      <th>Equiv_Diameter</th>\n",
       "      <th>Eccentricity</th>\n",
       "      <th>Solidity</th>\n",
       "      <th>Extent</th>\n",
       "      <th>Roundness</th>\n",
       "      <th>Aspect_Ration</th>\n",
       "      <th>Compactness</th>\n",
       "      <th>Class</th>\n",
       "    </tr>\n",
       "  </thead>\n",
       "  <tbody>\n",
       "    <tr>\n",
       "      <th>0</th>\n",
       "      <td>56276</td>\n",
       "      <td>888.242</td>\n",
       "      <td>326.1485</td>\n",
       "      <td>220.2388</td>\n",
       "      <td>56831</td>\n",
       "      <td>267.6805</td>\n",
       "      <td>0.7376</td>\n",
       "      <td>0.9902</td>\n",
       "      <td>0.7453</td>\n",
       "      <td>0.8963</td>\n",
       "      <td>1.4809</td>\n",
       "      <td>0.8207</td>\n",
       "      <td>Çerçevelik</td>\n",
       "    </tr>\n",
       "    <tr>\n",
       "      <th>1</th>\n",
       "      <td>76631</td>\n",
       "      <td>1068.146</td>\n",
       "      <td>417.1932</td>\n",
       "      <td>234.2289</td>\n",
       "      <td>77280</td>\n",
       "      <td>312.3614</td>\n",
       "      <td>0.8275</td>\n",
       "      <td>0.9916</td>\n",
       "      <td>0.7151</td>\n",
       "      <td>0.8440</td>\n",
       "      <td>1.7811</td>\n",
       "      <td>0.7487</td>\n",
       "      <td>Çerçevelik</td>\n",
       "    </tr>\n",
       "    <tr>\n",
       "      <th>2</th>\n",
       "      <td>71623</td>\n",
       "      <td>1082.987</td>\n",
       "      <td>435.8328</td>\n",
       "      <td>211.0457</td>\n",
       "      <td>72663</td>\n",
       "      <td>301.9822</td>\n",
       "      <td>0.8749</td>\n",
       "      <td>0.9857</td>\n",
       "      <td>0.7400</td>\n",
       "      <td>0.7674</td>\n",
       "      <td>2.0651</td>\n",
       "      <td>0.6929</td>\n",
       "      <td>Çerçevelik</td>\n",
       "    </tr>\n",
       "    <tr>\n",
       "      <th>3</th>\n",
       "      <td>66458</td>\n",
       "      <td>992.051</td>\n",
       "      <td>381.5638</td>\n",
       "      <td>222.5322</td>\n",
       "      <td>67118</td>\n",
       "      <td>290.8899</td>\n",
       "      <td>0.8123</td>\n",
       "      <td>0.9902</td>\n",
       "      <td>0.7396</td>\n",
       "      <td>0.8486</td>\n",
       "      <td>1.7146</td>\n",
       "      <td>0.7624</td>\n",
       "      <td>Çerçevelik</td>\n",
       "    </tr>\n",
       "    <tr>\n",
       "      <th>4</th>\n",
       "      <td>66107</td>\n",
       "      <td>998.146</td>\n",
       "      <td>383.8883</td>\n",
       "      <td>220.4545</td>\n",
       "      <td>67117</td>\n",
       "      <td>290.1207</td>\n",
       "      <td>0.8187</td>\n",
       "      <td>0.9850</td>\n",
       "      <td>0.6752</td>\n",
       "      <td>0.8338</td>\n",
       "      <td>1.7413</td>\n",
       "      <td>0.7557</td>\n",
       "      <td>Çerçevelik</td>\n",
       "    </tr>\n",
       "  </tbody>\n",
       "</table>\n",
       "</div>"
      ],
      "text/plain": [
       "    Area  Perimeter  Major_Axis_Length  Minor_Axis_Length  Convex_Area  \\\n",
       "0  56276    888.242           326.1485           220.2388        56831   \n",
       "1  76631   1068.146           417.1932           234.2289        77280   \n",
       "2  71623   1082.987           435.8328           211.0457        72663   \n",
       "3  66458    992.051           381.5638           222.5322        67118   \n",
       "4  66107    998.146           383.8883           220.4545        67117   \n",
       "\n",
       "   Equiv_Diameter  Eccentricity  Solidity  Extent  Roundness  Aspect_Ration  \\\n",
       "0        267.6805        0.7376    0.9902  0.7453     0.8963         1.4809   \n",
       "1        312.3614        0.8275    0.9916  0.7151     0.8440         1.7811   \n",
       "2        301.9822        0.8749    0.9857  0.7400     0.7674         2.0651   \n",
       "3        290.8899        0.8123    0.9902  0.7396     0.8486         1.7146   \n",
       "4        290.1207        0.8187    0.9850  0.6752     0.8338         1.7413   \n",
       "\n",
       "   Compactness       Class  \n",
       "0       0.8207  Çerçevelik  \n",
       "1       0.7487  Çerçevelik  \n",
       "2       0.6929  Çerçevelik  \n",
       "3       0.7624  Çerçevelik  \n",
       "4       0.7557  Çerçevelik  "
      ]
     },
     "execution_count": 85,
     "metadata": {},
     "output_type": "execute_result"
    }
   ],
   "source": [
    "path = os.getcwd() + '\\data\\Pumpkin_Seeds_Dataset.xlsx'\n",
    "df = pd.read_excel(path, header=0, names=None)\n",
    "df.head()"
   ]
  },
  {
   "cell_type": "markdown",
   "id": "8883eb3c-bd69-4c7c-b11a-8c2af834c8b5",
   "metadata": {},
   "source": [
    "## Model extraction"
   ]
  },
  {
   "cell_type": "markdown",
   "id": "1956aac1-5de5-4ee2-a641-66023869acf4",
   "metadata": {},
   "source": [
    "First of all, we are going to divide our dataset and apply Random Forest with the parameters that we consider. Then, we are going to apply some methods in order to decide which parameters are the most optimal ones and therefore what model to choose among all the possibilities. "
   ]
  },
  {
   "cell_type": "code",
   "execution_count": 86,
   "id": "1b4a6b0d-0118-4157-891f-9656b1518064",
   "metadata": {},
   "outputs": [],
   "source": [
    "train_set, val_set, test_set = train_val_test_split(df)"
   ]
  },
  {
   "cell_type": "code",
   "execution_count": 88,
   "id": "aa89d0f7-f49c-4254-a9e2-bec7fa4588f6",
   "metadata": {},
   "outputs": [],
   "source": [
    "X_train, y_train = remove_labels(train_set, 'Class')\n",
    "X_val, y_val = remove_labels(val_set, 'Class')\n",
    "X_test, y_test = remove_labels(test_set, 'Class')"
   ]
  },
  {
   "cell_type": "code",
   "execution_count": 89,
   "id": "b7037ce4-cfd5-46ca-af93-6b9b6e90869d",
   "metadata": {},
   "outputs": [
    {
     "data": {
      "text/plain": [
       "RandomForestClassifier(n_jobs=-1, random_state=42)"
      ]
     },
     "execution_count": 89,
     "metadata": {},
     "output_type": "execute_result"
    }
   ],
   "source": [
    "from sklearn.ensemble import RandomForestClassifier\n",
    "\n",
    "clf_rnd = RandomForestClassifier(n_estimators=100, random_state=42, n_jobs=-1)\n",
    "clf_rnd.fit(X_train, y_train)"
   ]
  },
  {
   "cell_type": "code",
   "execution_count": 90,
   "id": "69c85794-2a0b-4a30-9a49-6882caeb0075",
   "metadata": {},
   "outputs": [],
   "source": [
    "y_pred = clf_rnd.predict(X_val)"
   ]
  },
  {
   "cell_type": "code",
   "execution_count": 91,
   "id": "3f266dc5-121d-45df-a8f8-cff6899807b1",
   "metadata": {},
   "outputs": [
    {
     "name": "stdout",
     "output_type": "stream",
     "text": [
      "F1 Score: 0.8782354211925192\n"
     ]
    }
   ],
   "source": [
    "print(\"F1 Score:\", f1_score(y_pred, y_val, average='weighted'))"
   ]
  },
  {
   "cell_type": "code",
   "execution_count": 92,
   "id": "7cc318b0-db59-488b-afe7-f51c6ed373ae",
   "metadata": {},
   "outputs": [
    {
     "data": {
      "text/plain": [
       "GridSearchCV(cv=5, estimator=RandomForestClassifier(n_jobs=-1, random_state=42),\n",
       "             param_grid=[{'max_leaf_nodes': [16, 24, 36],\n",
       "                          'n_estimators': [100, 500, 1000]},\n",
       "                         {'bootstrap': [False], 'max_features': [2, 3, 4],\n",
       "                          'n_estimators': [100, 500]}],\n",
       "             return_train_score=True, scoring='f1_weighted')"
      ]
     },
     "execution_count": 92,
     "metadata": {},
     "output_type": "execute_result"
    }
   ],
   "source": [
    "# We are going to use Grid Search to select the better model obtained with Random Forest\n",
    "from sklearn.model_selection import GridSearchCV\n",
    "\n",
    "param_grid = [\n",
    "    # try 9 (3×3) combinations of hyperparameters\n",
    "    {'n_estimators': [100, 500, 1000], 'max_leaf_nodes': [16, 24, 36]},\n",
    "    # then try 6 (2×3) combinations with bootstrap set as False\n",
    "    {'bootstrap': [False], 'n_estimators': [100, 500], 'max_features': [2, 3, 4]},\n",
    "  ]\n",
    "\n",
    "rnd_clf = RandomForestClassifier(n_jobs=-1, random_state=42)\n",
    "\n",
    "\n",
    "grid_search = GridSearchCV(rnd_clf, param_grid, cv=5,\n",
    "                           scoring='f1_weighted', return_train_score=True)\n",
    "\n",
    "grid_search.fit(X_train, y_train)"
   ]
  },
  {
   "cell_type": "code",
   "execution_count": 93,
   "id": "335c9240-96af-4196-8169-68b50e5e46d9",
   "metadata": {},
   "outputs": [
    {
     "data": {
      "text/plain": [
       "{'max_leaf_nodes': 24, 'n_estimators': 100}"
      ]
     },
     "execution_count": 93,
     "metadata": {},
     "output_type": "execute_result"
    }
   ],
   "source": [
    "grid_search.best_params_"
   ]
  },
  {
   "cell_type": "code",
   "execution_count": 94,
   "id": "1dacb2f3-9357-4427-bb3c-39244db31ed1",
   "metadata": {},
   "outputs": [
    {
     "data": {
      "text/plain": [
       "RandomForestClassifier(max_leaf_nodes=24, n_jobs=-1, random_state=42)"
      ]
     },
     "execution_count": 94,
     "metadata": {},
     "output_type": "execute_result"
    }
   ],
   "source": [
    "grid_search.best_estimator_"
   ]
  },
  {
   "cell_type": "code",
   "execution_count": 96,
   "id": "d1b0bd30-cf56-4993-851a-5243a07f78ef",
   "metadata": {},
   "outputs": [
    {
     "name": "stdout",
     "output_type": "stream",
     "text": [
      "F1 score: 0.8885096221193105 - Parámetros: {'max_leaf_nodes': 16, 'n_estimators': 100}\n",
      "F1 score: 0.8891937257695559 - Parámetros: {'max_leaf_nodes': 16, 'n_estimators': 500}\n",
      "F1 score: 0.8905248075311661 - Parámetros: {'max_leaf_nodes': 16, 'n_estimators': 1000}\n",
      "F1 score: 0.8918358744748494 - Parámetros: {'max_leaf_nodes': 24, 'n_estimators': 100}\n",
      "F1 score: 0.8898567948622939 - Parámetros: {'max_leaf_nodes': 24, 'n_estimators': 500}\n",
      "F1 score: 0.8891910389291462 - Parámetros: {'max_leaf_nodes': 24, 'n_estimators': 1000}\n",
      "F1 score: 0.8851476520883266 - Parámetros: {'max_leaf_nodes': 36, 'n_estimators': 100}\n",
      "F1 score: 0.8891960766360232 - Parámetros: {'max_leaf_nodes': 36, 'n_estimators': 500}\n",
      "F1 score: 0.8885401253588008 - Parámetros: {'max_leaf_nodes': 36, 'n_estimators': 1000}\n",
      "F1 score: 0.8751731930339689 - Parámetros: {'bootstrap': False, 'max_features': 2, 'n_estimators': 100}\n",
      "F1 score: 0.8772177189061965 - Parámetros: {'bootstrap': False, 'max_features': 2, 'n_estimators': 500}\n",
      "F1 score: 0.8785723627561124 - Parámetros: {'bootstrap': False, 'max_features': 3, 'n_estimators': 100}\n",
      "F1 score: 0.8765886613901875 - Parámetros: {'bootstrap': False, 'max_features': 3, 'n_estimators': 500}\n",
      "F1 score: 0.8752093141361437 - Parámetros: {'bootstrap': False, 'max_features': 4, 'n_estimators': 100}\n",
      "F1 score: 0.8772666408764781 - Parámetros: {'bootstrap': False, 'max_features': 4, 'n_estimators': 500}\n"
     ]
    }
   ],
   "source": [
    "#Here we get all the different fscores for the diferent parameters\n",
    "cvres = grid_search.cv_results_\n",
    "for mean_score, params in zip(cvres[\"mean_test_score\"], cvres[\"params\"]):\n",
    "    print(\"F1 score:\", mean_score, \"-\", \"Parámetros:\", params)"
   ]
  },
  {
   "cell_type": "markdown",
   "id": "868abd6b-03db-451b-b087-d565e85035a7",
   "metadata": {},
   "source": [
    "This way that we have seen to explore hyperparameters is fine if we do not have a large number of combinations and we are clear about the possible values. Otherwise, it is possibly more efficient to use **RandomizedSearchCV**, which works in a similar way to the previous case, but performing a search on randomized values.\n"
   ]
  },
  {
   "cell_type": "code",
   "execution_count": 97,
   "id": "87e185e1-f74e-4a7a-854c-ba9652ba514f",
   "metadata": {},
   "outputs": [
    {
     "data": {
      "text/plain": [
       "RandomizedSearchCV(cv=2, estimator=RandomForestClassifier(n_jobs=-1), n_iter=5,\n",
       "                   param_distributions={'max_depth': <scipy.stats._distn_infrastructure.rv_discrete_frozen object at 0x000002E9EE3A98E0>,\n",
       "                                        'n_estimators': <scipy.stats._distn_infrastructure.rv_discrete_frozen object at 0x000002E9EF4DC850>},\n",
       "                   scoring='f1_weighted')"
      ]
     },
     "execution_count": 97,
     "metadata": {},
     "output_type": "execute_result"
    }
   ],
   "source": [
    "from sklearn.model_selection import RandomizedSearchCV\n",
    "from scipy.stats import randint\n",
    "\n",
    "#We decide a high range of parameters to try\n",
    "\n",
    "param_distribs = {\n",
    "        'n_estimators': randint(low=1, high=200),\n",
    "        'max_depth': randint(low=8, high=50),\n",
    "    }\n",
    "\n",
    "rnd_clf = RandomForestClassifier(n_jobs=-1)\n",
    "\n",
    "\n",
    "rnd_search = RandomizedSearchCV(rnd_clf, param_distributions=param_distribs,\n",
    "                                n_iter=5, cv=2, scoring='f1_weighted')\n",
    "\n",
    "rnd_search.fit(X_train, y_train)"
   ]
  },
  {
   "cell_type": "code",
   "execution_count": 98,
   "id": "93f68811-a720-4084-ba6e-4bd59dd43e8b",
   "metadata": {},
   "outputs": [
    {
     "data": {
      "text/plain": [
       "{'max_depth': 21, 'n_estimators': 31}"
      ]
     },
     "execution_count": 98,
     "metadata": {},
     "output_type": "execute_result"
    }
   ],
   "source": [
    "rnd_search.best_params_"
   ]
  },
  {
   "cell_type": "code",
   "execution_count": 99,
   "id": "c4a4e207-8915-4a5a-bc85-a53ca411e526",
   "metadata": {},
   "outputs": [
    {
     "data": {
      "text/plain": [
       "RandomForestClassifier(max_depth=21, n_estimators=31, n_jobs=-1)"
      ]
     },
     "execution_count": 99,
     "metadata": {},
     "output_type": "execute_result"
    }
   ],
   "source": [
    "rnd_search.best_estimator_"
   ]
  },
  {
   "cell_type": "code",
   "execution_count": 100,
   "id": "a216e7c6-e52a-4d99-b540-bb02d7f39358",
   "metadata": {},
   "outputs": [
    {
     "name": "stdout",
     "output_type": "stream",
     "text": [
      "F1 score: 0.8838493623452917 - Parámetros: {'max_depth': 16, 'n_estimators': 144}\n",
      "F1 score: 0.8864711155221536 - Parámetros: {'max_depth': 21, 'n_estimators': 31}\n",
      "F1 score: 0.8825023499259617 - Parámetros: {'max_depth': 9, 'n_estimators': 152}\n",
      "F1 score: 0.8831629722839871 - Parámetros: {'max_depth': 42, 'n_estimators': 60}\n",
      "F1 score: 0.8838764804045125 - Parámetros: {'max_depth': 40, 'n_estimators': 90}\n"
     ]
    }
   ],
   "source": [
    "cvres = rnd_search.cv_results_\n",
    "for mean_score, params in zip(cvres[\"mean_test_score\"], cvres[\"params\"]):\n",
    "    print(\"F1 score:\", mean_score, \"-\", \"Parámetros:\", params)"
   ]
  },
  {
   "cell_type": "markdown",
   "id": "19cca18a-42f0-4d01-a065-eaba7dbc5f0b",
   "metadata": {},
   "source": [
    "Once the best hyperparameters have been selected using one of the previously used techniques, we can obtain the model from the **best_estimator_** attribute.\n"
   ]
  },
  {
   "cell_type": "code",
   "execution_count": 101,
   "id": "aae549ab-e5b4-4110-86a4-9b73370adb63",
   "metadata": {},
   "outputs": [
    {
     "data": {
      "text/plain": [
       "{'bootstrap': True,\n",
       " 'ccp_alpha': 0.0,\n",
       " 'class_weight': None,\n",
       " 'criterion': 'gini',\n",
       " 'max_depth': 21,\n",
       " 'max_features': 'auto',\n",
       " 'max_leaf_nodes': None,\n",
       " 'max_samples': None,\n",
       " 'min_impurity_decrease': 0.0,\n",
       " 'min_samples_leaf': 1,\n",
       " 'min_samples_split': 2,\n",
       " 'min_weight_fraction_leaf': 0.0,\n",
       " 'n_estimators': 31,\n",
       " 'n_jobs': -1,\n",
       " 'oob_score': False,\n",
       " 'random_state': None,\n",
       " 'verbose': 0,\n",
       " 'warm_start': False}"
      ]
     },
     "execution_count": 101,
     "metadata": {},
     "output_type": "execute_result"
    }
   ],
   "source": [
    "rnd_search.best_estimator_.get_params()"
   ]
  },
  {
   "cell_type": "code",
   "execution_count": 102,
   "id": "05ded322-2f92-4ded-868d-0e5bd646611b",
   "metadata": {},
   "outputs": [],
   "source": [
    "# We select the best model\n",
    "clf_rnd = rnd_search.best_estimator_"
   ]
  },
  {
   "cell_type": "code",
   "execution_count": 104,
   "id": "1861fb90-b1ac-4047-84aa-93bdd4566d44",
   "metadata": {},
   "outputs": [
    {
     "name": "stdout",
     "output_type": "stream",
     "text": [
      "F1 score Train Set: 0.9986666666666667\n"
     ]
    }
   ],
   "source": [
    "# We predict with the train set\n",
    "y_train_pred = clf_rnd.predict(X_train)\n",
    "print(\"F1 score Train Set:\", f1_score(y_train_pred, y_train, average='weighted'))"
   ]
  },
  {
   "cell_type": "code",
   "execution_count": 105,
   "id": "7e8b44c6-e807-4f18-8b35-c4028d9896ec",
   "metadata": {},
   "outputs": [
    {
     "name": "stdout",
     "output_type": "stream",
     "text": [
      "F1 score Validation Set: 0.8802018633540373\n"
     ]
    }
   ],
   "source": [
    "# We predict with the validation set\n",
    "y_val_pred = clf_rnd.predict(X_val)\n",
    "print(\"F1 score Validation Set:\", f1_score(y_val_pred, y_val, average='weighted'))"
   ]
  },
  {
   "cell_type": "code",
   "execution_count": null,
   "id": "a3bcc6fe-2b51-4c03-93ca-253535b2e9fb",
   "metadata": {},
   "outputs": [],
   "source": []
  }
 ],
 "metadata": {
  "kernelspec": {
   "display_name": "Python 3 (ipykernel)",
   "language": "python",
   "name": "python3"
  },
  "language_info": {
   "codemirror_mode": {
    "name": "ipython",
    "version": 3
   },
   "file_extension": ".py",
   "mimetype": "text/x-python",
   "name": "python",
   "nbconvert_exporter": "python",
   "pygments_lexer": "ipython3",
   "version": "3.9.13"
  }
 },
 "nbformat": 4,
 "nbformat_minor": 5
}
